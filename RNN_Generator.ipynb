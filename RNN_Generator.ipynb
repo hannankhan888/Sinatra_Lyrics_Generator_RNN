{
 "cells": [
  {
   "cell_type": "markdown",
   "id": "46be58ec",
   "metadata": {},
   "source": [
    "# Frank Sinatra RNN Lyrics Generator\n",
    "> Author: Hannan Khan  \n",
    "> Date: 2022-05-17 19:45:03"
   ]
  },
  {
   "cell_type": "markdown",
   "id": "1314f9f5",
   "metadata": {},
   "source": [
    "## Setting Up Vars"
   ]
  },
  {
   "cell_type": "markdown",
   "id": "c4eb0b48",
   "metadata": {},
   "source": [
    "### Loading Libraries"
   ]
  },
  {
   "cell_type": "code",
   "execution_count": 43,
   "id": "dd6ecc1c",
   "metadata": {
    "ExecuteTime": {
     "end_time": "2022-05-17T23:07:52.690421Z",
     "start_time": "2022-05-17T23:07:52.087016Z"
    }
   },
   "outputs": [],
   "source": [
    "import tensorflow as tf\n",
    "\n",
    "import numpy as np\n",
    "import os\n",
    "import time\n",
    "\n",
    "import matplotlib.pyplot as plt"
   ]
  },
  {
   "cell_type": "markdown",
   "id": "ce36c3a3",
   "metadata": {},
   "source": [
    "### Loading The Dataset For The Model\n",
    "\n",
    "The actual creation of the dataset can be seen in [genius_scraper.py](https://github.com/hannankhan888/Sinatra_Lyrics_Generator_RNN/blob/main/data_scraping/genius_scraper.py) where I used the Genuis API to scrape Frank Sinatra's lyrics. In order to create the text file used below, run:  \n",
    "[genius_scraper.py](https://github.com/hannankhan888/Sinatra_Lyrics_Generator_RNN/blob/main/data_scraping/genius_scraper.py) ==> [json_to_csv.py](https://github.com/hannankhan888/Sinatra_Lyrics_Generator_RNN/blob/main/data_scraping/json_to_csv.py) ==> [csv_to_txt.py](https://github.com/hannankhan888/Sinatra_Lyrics_Generator_RNN/blob/main/data_scraping/csv_to_txt.py)"
   ]
  },
  {
   "cell_type": "code",
   "execution_count": 16,
   "id": "c8f6a0fc",
   "metadata": {
    "ExecuteTime": {
     "end_time": "2022-05-17T20:08:12.721571Z",
     "start_time": "2022-05-17T20:08:12.715587Z"
    }
   },
   "outputs": [
    {
     "name": "stdout",
     "output_type": "stream",
     "text": [
      "len(text) = 705123\n",
      "Example: fly me to the moon let me play among the stars and\n"
     ]
    }
   ],
   "source": [
    "data_path = r'data'\n",
    "filename = 'Lyrics_FrankSinatra.txt'\n",
    "filepath = os.sep.join([data_path, filename])\n",
    "checkpoint_path = r'checkpoints'\n",
    "\n",
    "text = ''\n",
    "with open(filepath, encoding='utf-8') as f:\n",
    "    text = f.read()\n",
    "\n",
    "print(f\"len(text) = {len(text)}\")\n",
    "print(\"Example:\", text[:50])"
   ]
  },
  {
   "cell_type": "code",
   "execution_count": 60,
   "id": "8db09e70",
   "metadata": {
    "ExecuteTime": {
     "end_time": "2022-05-17T23:23:59.033493Z",
     "start_time": "2022-05-17T23:23:59.009557Z"
    }
   },
   "outputs": [
    {
     "name": "stdout",
     "output_type": "stream",
     "text": [
      "len(vocab) = 27\n"
     ]
    }
   ],
   "source": [
    "vocab = sorted(set(text))\n",
    "print(f\"len(vocab) = {len(vocab)}\")"
   ]
  },
  {
   "cell_type": "code",
   "execution_count": 18,
   "id": "c835cb02",
   "metadata": {
    "ExecuteTime": {
     "end_time": "2022-05-17T20:08:25.292896Z",
     "start_time": "2022-05-17T20:08:24.936325Z"
    }
   },
   "outputs": [
    {
     "data": {
      "text/plain": [
       "<tf.Tensor: shape=(705123,), dtype=int64, numpy=array([ 7, 13, 26, ..., 24,  2, 26], dtype=int64)>"
      ]
     },
     "execution_count": 18,
     "metadata": {},
     "output_type": "execute_result"
    }
   ],
   "source": [
    "ids_from_chars = tf.keras.layers.StringLookup(vocabulary=list(vocab), mask_token=None)\n",
    "chars_from_ids = tf.keras.layers.StringLookup(vocabulary=ids_from_chars.get_vocabulary(),\n",
    "                                             invert=True, mask_token=None)\n",
    "# below fn is for a single char\n",
    "# def text_from_ids(ids):\n",
    "#     return chars_from_ids(ids).numpy().decode('utf-8')\n",
    "def text_from_ids(ids):\n",
    "    return tf.strings.reduce_join(chars_from_ids(ids), axis=-1)\n",
    "\n",
    "all_ids = ids_from_chars(tf.strings.unicode_split(text, 'UTF-8'))\n",
    "all_ids"
   ]
  },
  {
   "cell_type": "code",
   "execution_count": 19,
   "id": "bc626671",
   "metadata": {
    "ExecuteTime": {
     "end_time": "2022-05-17T20:08:27.762172Z",
     "start_time": "2022-05-17T20:08:27.710297Z"
    }
   },
   "outputs": [
    {
     "name": "stdout",
     "output_type": "stream",
     "text": [
      "fly me to "
     ]
    }
   ],
   "source": [
    "ids_dataset = tf.data.Dataset.from_tensor_slices(all_ids)\n",
    "\n",
    "# this operation is only for single data points (chars), not batches.\n",
    "for ids in ids_dataset.take(10):\n",
    "    print(chars_from_ids(ids).numpy().decode('utf-8'), end='')"
   ]
  },
  {
   "cell_type": "code",
   "execution_count": 20,
   "id": "6c8b5311",
   "metadata": {
    "ExecuteTime": {
     "end_time": "2022-05-17T20:08:29.750104Z",
     "start_time": "2022-05-17T20:08:29.722179Z"
    }
   },
   "outputs": [
    {
     "name": "stdout",
     "output_type": "stream",
     "text": [
      "tf.Tensor(b'fly me to the moon let me play among the stars and let me see what spring is like on ajupiter and mar', shape=(), dtype=string)\n",
      "tf.Tensor(b's in other words hold my hand in other words baby kiss me fill my heart with song and let me sing for', shape=(), dtype=string)\n",
      "tf.Tensor(b'evermore you are all i long for all i worship and adore in other words please be true in other words ', shape=(), dtype=string)\n",
      "tf.Tensor(b'i love you fill my heart with song let me sing forevermore you are all i long for all i worship and a', shape=(), dtype=string)\n",
      "tf.Tensor(b'dore in other words please be true in other words in other words i love youand now the end is near an', shape=(), dtype=string)\n"
     ]
    }
   ],
   "source": [
    "sequence_len = 100\n",
    "\n",
    "sequences = ids_dataset.batch(sequence_len+1, drop_remainder=True)\n",
    "for seq in sequences.take(5):\n",
    "    print(text_from_ids(seq))"
   ]
  },
  {
   "cell_type": "code",
   "execution_count": 21,
   "id": "96f9eb38",
   "metadata": {
    "ExecuteTime": {
     "end_time": "2022-05-17T20:08:37.028491Z",
     "start_time": "2022-05-17T20:08:36.977628Z"
    }
   },
   "outputs": [],
   "source": [
    "def split_input_target(sequence):\n",
    "    input_text = sequence[:-1]\n",
    "    target_text = sequence[1:]\n",
    "    return input_text, target_text\n",
    "\n",
    "dataset = sequences.map(split_input_target)"
   ]
  },
  {
   "cell_type": "code",
   "execution_count": 22,
   "id": "e9815943",
   "metadata": {
    "ExecuteTime": {
     "end_time": "2022-05-17T20:08:37.688839Z",
     "start_time": "2022-05-17T20:08:37.636473Z"
    }
   },
   "outputs": [
    {
     "name": "stdout",
     "output_type": "stream",
     "text": [
      "Input : b'fly me to the moon let me play among the stars and let me see what spring is like on ajupiter and ma'\n",
      "Target: b'ly me to the moon let me play among the stars and let me see what spring is like on ajupiter and mar'\n"
     ]
    }
   ],
   "source": [
    "for input_example, target_example in dataset.take(1):\n",
    "    print(\"Input :\", text_from_ids(input_example).numpy())\n",
    "    print(\"Target:\", text_from_ids(target_example).numpy())"
   ]
  },
  {
   "cell_type": "code",
   "execution_count": 23,
   "id": "f9bcc7bc",
   "metadata": {
    "ExecuteTime": {
     "end_time": "2022-05-17T20:08:51.432104Z",
     "start_time": "2022-05-17T20:08:51.412158Z"
    }
   },
   "outputs": [
    {
     "data": {
      "text/plain": [
       "<PrefetchDataset shapes: ((128, 100), (128, 100)), types: (tf.int64, tf.int64)>"
      ]
     },
     "execution_count": 23,
     "metadata": {},
     "output_type": "execute_result"
    }
   ],
   "source": [
    "BATCH_SIZE = 128\n",
    "\n",
    "# used to shuffle the dataset\n",
    "BUFFER_SIZE = 10000\n",
    "\n",
    "dataset = (\n",
    "    dataset\n",
    "    .shuffle(BUFFER_SIZE)\n",
    "    .batch(BATCH_SIZE, drop_remainder=True)\n",
    "    .prefetch(tf.data.experimental.AUTOTUNE))\n",
    "dataset"
   ]
  },
  {
   "cell_type": "markdown",
   "id": "76d5444e",
   "metadata": {},
   "source": [
    "## Creating The RNN Model"
   ]
  },
  {
   "cell_type": "markdown",
   "id": "54464285",
   "metadata": {},
   "source": [
    "### Defining The `LyricsGeneratorModel()` Class & Testing"
   ]
  },
  {
   "cell_type": "code",
   "execution_count": 24,
   "id": "d5da9ba6",
   "metadata": {
    "ExecuteTime": {
     "end_time": "2022-05-17T20:09:06.674633Z",
     "start_time": "2022-05-17T20:09:06.663663Z"
    }
   },
   "outputs": [],
   "source": [
    "vocab_size = len(ids_from_chars.get_vocabulary())\n",
    "embedding_dim = 256\n",
    "rnn_units = 1024"
   ]
  },
  {
   "cell_type": "code",
   "execution_count": 25,
   "id": "ae6f4354",
   "metadata": {
    "ExecuteTime": {
     "end_time": "2022-05-17T20:09:07.667846Z",
     "start_time": "2022-05-17T20:09:07.652886Z"
    }
   },
   "outputs": [],
   "source": [
    "class LyricsGeneratorModel(tf.keras.Model):\n",
    "    def __init__(self, vocab_size, embedding_dim, rnn_units):\n",
    "        super().__init__(self)\n",
    "        self.embedding = tf.keras.layers.Embedding(vocab_size, embedding_dim)\n",
    "        self.gru = tf.keras.layers.GRU(rnn_units, return_sequences=True, return_state=True)\n",
    "        self.dense = tf.keras.layers.Dense(vocab_size)\n",
    "\n",
    "    def call(self, inputs, states=None, return_state=False, training=False):\n",
    "        x = inputs\n",
    "        x = self.embedding(x, training=training)\n",
    "        if states is None:\n",
    "            states = self.gru.get_initial_state(x)\n",
    "        x, states = self.gru(x, initial_state=states, training=training)\n",
    "        x = self.dense(x, training=training)\n",
    "        \n",
    "        if return_state:\n",
    "            return x, states\n",
    "        else:\n",
    "            return x"
   ]
  },
  {
   "cell_type": "code",
   "execution_count": 26,
   "id": "d367ddbf",
   "metadata": {
    "ExecuteTime": {
     "end_time": "2022-05-17T20:09:08.931734Z",
     "start_time": "2022-05-17T20:09:08.917772Z"
    }
   },
   "outputs": [],
   "source": [
    "model = LyricsGeneratorModel(vocab_size=vocab_size,\n",
    "                            embedding_dim=embedding_dim,\n",
    "                            rnn_units=rnn_units)"
   ]
  },
  {
   "cell_type": "code",
   "execution_count": 27,
   "id": "78158d81",
   "metadata": {
    "ExecuteTime": {
     "end_time": "2022-05-17T20:09:17.988458Z",
     "start_time": "2022-05-17T20:09:15.994566Z"
    }
   },
   "outputs": [
    {
     "name": "stdout",
     "output_type": "stream",
     "text": [
      "(128, 100, 28) (batch, seq_length, vocab_size)\n"
     ]
    }
   ],
   "source": [
    "for input_batch, target_batch in dataset.take(1):\n",
    "    predictions = model(input_batch)\n",
    "    print(predictions.shape, '(batch, seq_length, vocab_size)')"
   ]
  },
  {
   "cell_type": "code",
   "execution_count": 28,
   "id": "7ad052ec",
   "metadata": {
    "ExecuteTime": {
     "end_time": "2022-05-17T20:09:18.004416Z",
     "start_time": "2022-05-17T20:09:17.989456Z"
    }
   },
   "outputs": [
    {
     "name": "stdout",
     "output_type": "stream",
     "text": [
      "Model: \"lyrics_generator_model\"\n",
      "_________________________________________________________________\n",
      "Layer (type)                 Output Shape              Param #   \n",
      "=================================================================\n",
      "embedding (Embedding)        multiple                  7168      \n",
      "_________________________________________________________________\n",
      "gru (GRU)                    multiple                  3938304   \n",
      "_________________________________________________________________\n",
      "dense (Dense)                multiple                  28700     \n",
      "=================================================================\n",
      "Total params: 3,974,172\n",
      "Trainable params: 3,974,172\n",
      "Non-trainable params: 0\n",
      "_________________________________________________________________\n"
     ]
    }
   ],
   "source": [
    "model.summary()"
   ]
  },
  {
   "cell_type": "code",
   "execution_count": 29,
   "id": "dc034c4f",
   "metadata": {
    "ExecuteTime": {
     "end_time": "2022-05-17T20:09:18.020373Z",
     "start_time": "2022-05-17T20:09:18.005413Z"
    }
   },
   "outputs": [
    {
     "name": "stdout",
     "output_type": "stream",
     "text": [
      "Input: b's i see soon begins bewitching me its that old devil moon that you stole from the skies its that old'\n",
      "Next char predictions:\n",
      "b't[UNK]vtbpszf nqycgt uwweyzryjcxsdeiqqag uo fobxzqmqqsxmmv lxxbvizzmuubptzikawishqnlp lntuwxgnwud[UNK]maqlrp'\n"
     ]
    }
   ],
   "source": [
    "example_idxs = tf.random.categorical(predictions[0], num_samples=1)\n",
    "example_idxs = tf.squeeze(example_idxs, axis=-1).numpy()\n",
    "\n",
    "print(f'Input: {text_from_ids(input_batch[0]).numpy()}')\n",
    "print(f'Next char predictions:')\n",
    "print(f'{text_from_ids(example_idxs).numpy()}')"
   ]
  },
  {
   "cell_type": "code",
   "execution_count": 30,
   "id": "84fb3e5a",
   "metadata": {
    "ExecuteTime": {
     "end_time": "2022-05-17T20:09:27.623771Z",
     "start_time": "2022-05-17T20:09:27.609809Z"
    }
   },
   "outputs": [
    {
     "name": "stdout",
     "output_type": "stream",
     "text": [
      "Predictions shape: (128, 100, 28)\n",
      "Mean Loss: 3.3320910930633545\n"
     ]
    }
   ],
   "source": [
    "loss_fn = tf.losses.SparseCategoricalCrossentropy(from_logits=True)\n",
    "\n",
    "example_mean_loss = loss_fn(target_batch, predictions)\n",
    "print(f'Predictions shape: {predictions.shape}')\n",
    "print(f'Mean Loss: {example_mean_loss}')"
   ]
  },
  {
   "cell_type": "markdown",
   "id": "94b4392e",
   "metadata": {},
   "source": [
    "A new model should not be too confident. The output logits should all have similar magnitudes. The exponential of the mean loss should be approximately equal to the vocabulary size."
   ]
  },
  {
   "cell_type": "code",
   "execution_count": 31,
   "id": "6a37eba2",
   "metadata": {
    "ExecuteTime": {
     "end_time": "2022-05-17T20:09:29.355400Z",
     "start_time": "2022-05-17T20:09:29.336451Z"
    }
   },
   "outputs": [
    {
     "data": {
      "text/plain": [
       "27.996824"
      ]
     },
     "execution_count": 31,
     "metadata": {},
     "output_type": "execute_result"
    }
   ],
   "source": [
    "tf.exp(example_mean_loss).numpy()"
   ]
  },
  {
   "cell_type": "markdown",
   "id": "4f80fd94",
   "metadata": {},
   "source": [
    "### Compiling & Running The Model"
   ]
  },
  {
   "cell_type": "code",
   "execution_count": 32,
   "id": "ef90369c",
   "metadata": {
    "ExecuteTime": {
     "end_time": "2022-05-17T20:09:30.932386Z",
     "start_time": "2022-05-17T20:09:30.918423Z"
    }
   },
   "outputs": [],
   "source": [
    "model.compile(optimizer='adam', loss=loss_fn)"
   ]
  },
  {
   "cell_type": "code",
   "execution_count": 33,
   "id": "173a4605",
   "metadata": {
    "ExecuteTime": {
     "end_time": "2022-05-17T20:09:32.454061Z",
     "start_time": "2022-05-17T20:09:32.444088Z"
    }
   },
   "outputs": [],
   "source": [
    "# we create checkpoints for saving during training:\n",
    "checkpoint_prefix = os.path.join(checkpoint_path, \"ckpt_{epoch}\")\n",
    "\n",
    "checkpoint_callback = tf.keras.callbacks.ModelCheckpoint(filepath=checkpoint_prefix,\n",
    "                                                        save_weights_only=True)"
   ]
  },
  {
   "cell_type": "code",
   "execution_count": 35,
   "id": "7b5071dd",
   "metadata": {
    "ExecuteTime": {
     "end_time": "2022-05-17T23:06:36.157598Z",
     "start_time": "2022-05-17T20:10:10.992733Z"
    },
    "scrolled": true
   },
   "outputs": [
    {
     "name": "stdout",
     "output_type": "stream",
     "text": [
      "Epoch 1/80\n",
      "54/54 [==============================] - 89s 2s/step - loss: 2.7600\n",
      "Epoch 2/80\n",
      "54/54 [==============================] - 112s 2s/step - loss: 2.1935\n",
      "Epoch 3/80\n",
      "54/54 [==============================] - 119s 2s/step - loss: 2.0151\n",
      "Epoch 4/80\n",
      "54/54 [==============================] - 117s 2s/step - loss: 1.8745\n",
      "Epoch 5/80\n",
      "54/54 [==============================] - 128s 2s/step - loss: 1.7569\n",
      "Epoch 6/80\n",
      "54/54 [==============================] - 133s 2s/step - loss: 1.6579\n",
      "Epoch 7/80\n",
      "54/54 [==============================] - 125s 2s/step - loss: 1.5739\n",
      "Epoch 8/80\n",
      "54/54 [==============================] - 129s 2s/step - loss: 1.5056\n",
      "Epoch 9/80\n",
      "54/54 [==============================] - 129s 2s/step - loss: 1.4477\n",
      "Epoch 10/80\n",
      "54/54 [==============================] - 128s 2s/step - loss: 1.3987\n",
      "Epoch 11/80\n",
      "54/54 [==============================] - 125s 2s/step - loss: 1.3531\n",
      "Epoch 12/80\n",
      "54/54 [==============================] - 125s 2s/step - loss: 1.3115\n",
      "Epoch 13/80\n",
      "54/54 [==============================] - 127s 2s/step - loss: 1.2710\n",
      "Epoch 14/80\n",
      "54/54 [==============================] - 135s 2s/step - loss: 1.2329\n",
      "Epoch 15/80\n",
      "54/54 [==============================] - 124s 2s/step - loss: 1.1970\n",
      "Epoch 16/80\n",
      "54/54 [==============================] - 134s 2s/step - loss: 1.1590\n",
      "Epoch 17/80\n",
      "54/54 [==============================] - 135s 2s/step - loss: 1.1213\n",
      "Epoch 18/80\n",
      "54/54 [==============================] - 136s 3s/step - loss: 1.0819\n",
      "Epoch 19/80\n",
      "54/54 [==============================] - 128s 2s/step - loss: 1.0407\n",
      "Epoch 20/80\n",
      "54/54 [==============================] - 131s 2s/step - loss: 0.9977\n",
      "Epoch 21/80\n",
      "54/54 [==============================] - 126s 2s/step - loss: 0.9530\n",
      "Epoch 22/80\n",
      "54/54 [==============================] - 135s 2s/step - loss: 0.9080\n",
      "Epoch 23/80\n",
      "54/54 [==============================] - 131s 2s/step - loss: 0.8580\n",
      "Epoch 24/80\n",
      "54/54 [==============================] - 136s 3s/step - loss: 0.8082\n",
      "Epoch 25/80\n",
      "54/54 [==============================] - 130s 2s/step - loss: 0.7560\n",
      "Epoch 26/80\n",
      "54/54 [==============================] - 128s 2s/step - loss: 0.7042\n",
      "Epoch 27/80\n",
      "54/54 [==============================] - 127s 2s/step - loss: 0.6525\n",
      "Epoch 28/80\n",
      "54/54 [==============================] - 127s 2s/step - loss: 0.5978\n",
      "Epoch 29/80\n",
      "54/54 [==============================] - 129s 2s/step - loss: 0.5452\n",
      "Epoch 30/80\n",
      "54/54 [==============================] - 127s 2s/step - loss: 0.4971\n",
      "Epoch 31/80\n",
      "54/54 [==============================] - 126s 2s/step - loss: 0.4520\n",
      "Epoch 32/80\n",
      "54/54 [==============================] - 127s 2s/step - loss: 0.4093\n",
      "Epoch 33/80\n",
      "54/54 [==============================] - 124s 2s/step - loss: 0.3708\n",
      "Epoch 34/80\n",
      "54/54 [==============================] - 121s 2s/step - loss: 0.3377\n",
      "Epoch 35/80\n",
      "54/54 [==============================] - 126s 2s/step - loss: 0.3074\n",
      "Epoch 36/80\n",
      "54/54 [==============================] - 130s 2s/step - loss: 0.2825\n",
      "Epoch 37/80\n",
      "54/54 [==============================] - 129s 2s/step - loss: 0.2592\n",
      "Epoch 38/80\n",
      "54/54 [==============================] - 131s 2s/step - loss: 0.2397\n",
      "Epoch 39/80\n",
      "54/54 [==============================] - 125s 2s/step - loss: 0.2231\n",
      "Epoch 40/80\n",
      "54/54 [==============================] - 119s 2s/step - loss: 0.2091\n",
      "Epoch 41/80\n",
      "54/54 [==============================] - 95s 2s/step - loss: 0.1968\n",
      "Epoch 42/80\n",
      "54/54 [==============================] - 133s 2s/step - loss: 0.1849\n",
      "Epoch 43/80\n",
      "54/54 [==============================] - 128s 2s/step - loss: 0.1758\n",
      "Epoch 44/80\n",
      "54/54 [==============================] - 130s 2s/step - loss: 0.1668\n",
      "Epoch 45/80\n",
      "54/54 [==============================] - 126s 2s/step - loss: 0.1609\n",
      "Epoch 46/80\n",
      "54/54 [==============================] - 133s 2s/step - loss: 0.1554\n",
      "Epoch 47/80\n",
      "54/54 [==============================] - 132s 2s/step - loss: 0.1503\n",
      "Epoch 48/80\n",
      "54/54 [==============================] - 132s 2s/step - loss: 0.1465\n",
      "Epoch 49/80\n",
      "54/54 [==============================] - 124s 2s/step - loss: 0.1444\n",
      "Epoch 50/80\n",
      "54/54 [==============================] - 130s 2s/step - loss: 0.1429\n",
      "Epoch 51/80\n",
      "54/54 [==============================] - 125s 2s/step - loss: 0.1412\n",
      "Epoch 52/80\n",
      "54/54 [==============================] - 121s 2s/step - loss: 0.1385\n",
      "Epoch 53/80\n",
      "54/54 [==============================] - 215s 4s/step - loss: 0.1390\n",
      "Epoch 54/80\n",
      "54/54 [==============================] - 201s 4s/step - loss: 0.1407\n",
      "Epoch 55/80\n",
      "54/54 [==============================] - 180s 3s/step - loss: 0.1438\n",
      "Epoch 56/80\n",
      "54/54 [==============================] - 145s 3s/step - loss: 0.1481\n",
      "Epoch 57/80\n",
      "54/54 [==============================] - 126s 2s/step - loss: 0.1538\n",
      "Epoch 58/80\n",
      "54/54 [==============================] - 134s 2s/step - loss: 0.1594\n",
      "Epoch 59/80\n",
      "54/54 [==============================] - 132s 2s/step - loss: 0.1675\n",
      "Epoch 60/80\n",
      "54/54 [==============================] - 126s 2s/step - loss: 0.1767\n",
      "Epoch 61/80\n",
      "54/54 [==============================] - 127s 2s/step - loss: 0.1755\n",
      "Epoch 62/80\n",
      "54/54 [==============================] - 125s 2s/step - loss: 0.1714\n",
      "Epoch 63/80\n",
      "54/54 [==============================] - 126s 2s/step - loss: 0.1611\n",
      "Epoch 64/80\n",
      "54/54 [==============================] - 98s 2s/step - loss: 0.1492\n",
      "Epoch 65/80\n",
      "54/54 [==============================] - 124s 2s/step - loss: 0.1391\n",
      "Epoch 66/80\n",
      "54/54 [==============================] - 145s 3s/step - loss: 0.1295\n",
      "Epoch 67/80\n",
      "54/54 [==============================] - 220s 4s/step - loss: 0.1189\n",
      "Epoch 68/80\n",
      "54/54 [==============================] - 200s 4s/step - loss: 0.1109\n",
      "Epoch 69/80\n",
      "54/54 [==============================] - 169s 3s/step - loss: 0.1052\n",
      "Epoch 70/80\n",
      "54/54 [==============================] - 141s 3s/step - loss: 0.1007\n",
      "Epoch 71/80\n",
      "54/54 [==============================] - 133s 2s/step - loss: 0.0982\n",
      "Epoch 72/80\n",
      "54/54 [==============================] - 126s 2s/step - loss: 0.0955\n",
      "Epoch 73/80\n",
      "54/54 [==============================] - 130s 2s/step - loss: 0.0939\n",
      "Epoch 74/80\n",
      "54/54 [==============================] - 129s 2s/step - loss: 0.0925\n",
      "Epoch 75/80\n",
      "54/54 [==============================] - 122s 2s/step - loss: 0.0911\n",
      "Epoch 76/80\n",
      "54/54 [==============================] - 130s 2s/step - loss: 0.0909\n",
      "Epoch 77/80\n",
      "54/54 [==============================] - 127s 2s/step - loss: 0.0906\n",
      "Epoch 78/80\n",
      "54/54 [==============================] - 126s 2s/step - loss: 0.0906\n",
      "Epoch 79/80\n",
      "54/54 [==============================] - 125s 2s/step - loss: 0.0905\n",
      "Epoch 80/80\n",
      "54/54 [==============================] - 127s 2s/step - loss: 0.0911\n"
     ]
    }
   ],
   "source": [
    "EPOCHS = 80\n",
    "# history = model.fit(dataset, epochs=EPOCHS, callbacks=[checkpoint_callback])\n",
    "history = model.fit(dataset, epochs=EPOCHS)"
   ]
  },
  {
   "cell_type": "code",
   "execution_count": 64,
   "id": "3f3eec20",
   "metadata": {
    "ExecuteTime": {
     "end_time": "2022-05-17T23:35:00.721741Z",
     "start_time": "2022-05-17T23:34:57.037501Z"
    }
   },
   "outputs": [
    {
     "name": "stderr",
     "output_type": "stream",
     "text": [
      "WARNING:absl:Found untraced functions such as gru_cell_layer_call_fn, gru_cell_layer_call_and_return_conditional_losses, gru_cell_layer_call_fn, gru_cell_layer_call_and_return_conditional_losses, gru_cell_layer_call_and_return_conditional_losses while saving (showing 5 of 5). These functions will not be directly callable after loading.\n"
     ]
    },
    {
     "name": "stdout",
     "output_type": "stream",
     "text": [
      "INFO:tensorflow:Assets written to: model_lower_char_80_epochs\\assets\n"
     ]
    },
    {
     "name": "stderr",
     "output_type": "stream",
     "text": [
      "INFO:tensorflow:Assets written to: model_lower_char_80_epochs\\assets\n"
     ]
    }
   ],
   "source": [
    "model.save(f\"model_lower_char_{EPOCHS}_epochs\")\n",
    "model.save_weights(f\"model_lower_char_{EPOCHS}_epochs_weights.h5\")"
   ]
  },
  {
   "cell_type": "markdown",
   "id": "2ffc7f90",
   "metadata": {},
   "source": [
    "### Setting Up A Prediction Function\n",
    "Courtesy of the [TensorFlow text generation tutorial](https://www.tensorflow.org/text/tutorials/text_generation)."
   ]
  },
  {
   "cell_type": "code",
   "execution_count": 61,
   "id": "fd1bc31b",
   "metadata": {
    "ExecuteTime": {
     "end_time": "2022-05-17T23:25:55.692117Z",
     "start_time": "2022-05-17T23:25:55.675163Z"
    }
   },
   "outputs": [],
   "source": [
    "# Create a mask to prevent \"[UNK]\" from being generated.\n",
    "skip_ids = ids_from_chars(['[UNK]'])[:, None]\n",
    "sparse_mask = tf.SparseTensor(\n",
    "    # Put a -inf at each bad index.\n",
    "    values=[-float('inf')]*len(skip_ids),\n",
    "    indices=skip_ids,\n",
    "    # Match the shape to the vocabulary\n",
    "    dense_shape=[len(ids_from_chars.get_vocabulary())])\n",
    "prediction_mask = tf.sparse.to_dense(sparse_mask)\n",
    "\n",
    "def generate_one_step(inputs, states=None):\n",
    "    # Convert strings to token IDs.\n",
    "    input_chars = tf.strings.unicode_split(inputs, 'UTF-8')\n",
    "    input_ids = ids_from_chars(input_chars).to_tensor()\n",
    "\n",
    "    # Run the model.\n",
    "    # predicted_logits.shape is [batch, char, next_char_logits]\n",
    "    predicted_logits, states = model(inputs=input_ids, states=states,\n",
    "                                          return_state=True, training=False)\n",
    "    # Only use the last prediction.\n",
    "    predicted_logits = predicted_logits[:, -1, :]\n",
    "    predicted_logits = predicted_logits/1.0\n",
    "    # Apply the prediction mask: prevent \"[UNK]\" from being generated.\n",
    "    predicted_logits = predicted_logits + prediction_mask\n",
    "\n",
    "    # Sample the output logits to generate token IDs.\n",
    "    predicted_ids = tf.random.categorical(predicted_logits, num_samples=1)\n",
    "    predicted_ids = tf.squeeze(predicted_ids, axis=-1)\n",
    "\n",
    "    # Convert from token ids to characters\n",
    "    predicted_chars = chars_from_ids(predicted_ids)\n",
    "\n",
    "    # Return the characters and model state.\n",
    "    return predicted_chars, states"
   ]
  },
  {
   "cell_type": "markdown",
   "id": "2bde54b1",
   "metadata": {},
   "source": [
    "## Model Performance & Predictions\n",
    "This model had great loss, with a min of 0.09. However, as I noticed by testing the predicitons, the model might have ran for too long, and might have gotten overfit to the data.  \n",
    "\n",
    "For example, the model might get caught in a 'jingle bells' loop as I call it. There it will only be printing the lyrics to Jingle Bells. There are however, a few times it releases itself from the loop."
   ]
  },
  {
   "cell_type": "code",
   "execution_count": 84,
   "id": "79590df2",
   "metadata": {
    "ExecuteTime": {
     "end_time": "2022-05-18T00:18:43.098293Z",
     "start_time": "2022-05-18T00:18:42.835994Z"
    }
   },
   "outputs": [
    {
     "data": {
      "image/png": "[encoded data removed]",
      "text/plain": [
       "<Figure size 1600x900 with 1 Axes>"
      ]
     },
     "metadata": {},
     "output_type": "display_data"
    }
   ],
   "source": [
    "def plot_loss(loss_list: list = [], title: str = \"\"):\n",
    "    x = range(len(loss_list))\n",
    "    y = loss_list\n",
    "    \n",
    "    z = np.polyfit(x, y, 10)\n",
    "    p = np.poly1d(z)\n",
    "    trnd_ln_arr = p(x)\n",
    "    \n",
    "    plt.figure(figsize=(8, 4.5), dpi=200)\n",
    "    plt.style.use('dark_background')\n",
    "    \n",
    "    plt.plot(x, trnd_ln_arr, color='limegreen')\n",
    "    plt.xticks(rotation=90)\n",
    "    \n",
    "    ymin = round(min(p(x)), 2)\n",
    "    x_pos = np.argmin(trnd_ln_arr, 0)\n",
    "    xmin = x[x_pos]\n",
    "\n",
    "    plt.annotate(f\"min: {ymin}\",xy=(xmin, ymin+.02), xytext=(xmin, ymin+.3),\n",
    "                 horizontalalignment='right',\n",
    "                 arrowprops=dict(arrowstyle='->',color='limegreen'),\n",
    "                color='limegreen')\n",
    "    plt.ylabel(\"Loss\")\n",
    "    plt.xlabel(\"Epochs\")\n",
    "    \n",
    "    if title:\n",
    "        plt.title(title)\n",
    "    \n",
    "    plt.tight_layout()\n",
    "    plt.savefig('data\\\\' + title)\n",
    "    plt.show()\n",
    "\n",
    "plot_loss(history.history['loss'], 'Training Loss')"
   ]
  },
  {
   "cell_type": "code",
   "execution_count": 85,
   "id": "deaea792",
   "metadata": {
    "ExecuteTime": {
     "end_time": "2022-05-18T00:25:05.730449Z",
     "start_time": "2022-05-18T00:24:59.665914Z"
    },
    "scrolled": false
   },
   "outputs": [
    {
     "name": "stdout",
     "output_type": "stream",
     "text": [
      "Lme but thanks for the memory of every touch a thrill ive been through the mill ive lived a lot and learn to break when youre cryin you bring on the rain so stop that sighin come on and be happy again keep on smilin cause when youre smilin baby the whole world smiles with youallywsllen by the window where i can see all those marvelous things to be seen out there what do i care you and me keep is through all i remember out way dear dreams well confess the sunshine for more than the greatest love the world has luck pose from you even stop late through the night and the day till my eyes get were one love like you and the other knows and the sun just im a guy who loves a clinging vine kiss me baby kiss me and though i know her known the blacked out and the earth bells jingle bells jingle all the way oh what fun its a lonely town unless theres love a love thats shining like a harbor light youre lost in the night our end was in your eyes bright as the starress its up to you from the bottom to \n",
      "\n",
      "________________________________________________________________________________\n",
      "\n",
      "Run time: 6.057554244995117\n"
     ]
    }
   ],
   "source": [
    "start = time.time()\n",
    "states = None\n",
    "next_char = tf.constant(['L'])\n",
    "result = [next_char]\n",
    "\n",
    "for n in range(1000):\n",
    "  next_char, states = generate_one(next_char, states=states)\n",
    "  result.append(next_char)\n",
    "\n",
    "result = tf.strings.join(result)\n",
    "end = time.time()\n",
    "print(result[0].numpy().decode('utf-8'), '\\n\\n' + '_'*80)\n",
    "print('\\nRun time:', end - start)"
   ]
  },
  {
   "cell_type": "code",
   "execution_count": null,
   "id": "938dffec",
   "metadata": {},
   "outputs": [],
   "source": []
  }
 ],
 "metadata": {
  "kernelspec": {
   "display_name": "Python 3 (ipykernel)",
   "language": "python",
   "name": "python3"
  },
  "language_info": {
   "codemirror_mode": {
    "name": "ipython",
    "version": 3
   },
   "file_extension": ".py",
   "mimetype": "text/x-python",
   "name": "python",
   "nbconvert_exporter": "python",
   "pygments_lexer": "ipython3",
   "version": "3.9.7"
  },
  "notify_time": "5",
  "toc": {
   "base_numbering": 1,
   "nav_menu": {},
   "number_sections": true,
   "sideBar": true,
   "skip_h1_title": false,
   "title_cell": "Table of Contents",
   "title_sidebar": "Contents",
   "toc_cell": false,
   "toc_position": {},
   "toc_section_display": true,
   "toc_window_display": false
  }
 },
 "nbformat": 4,
 "nbformat_minor": 5
}
