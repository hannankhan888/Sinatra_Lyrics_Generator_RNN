{
 "cells": [
  {
   "cell_type": "markdown",
   "id": "e275bb17",
   "metadata": {},
   "source": [
    "# Model Loading & Lyrics Generation Script\n",
    "> Author: Hannan Khan  \n",
    "> Date: 2022-05-17 19:45:55"
   ]
  },
  {
   "cell_type": "markdown",
   "id": "e025094e",
   "metadata": {},
   "source": [
    "The original script for model creation/training can be found [here]()"
   ]
  },
  {
   "cell_type": "code",
   "execution_count": 1,
   "id": "37239845",
   "metadata": {
    "ExecuteTime": {
     "end_time": "2022-05-18T00:43:09.315203Z",
     "start_time": "2022-05-18T00:43:07.077132Z"
    }
   },
   "outputs": [],
   "source": [
    "import tensorflow as tf\n",
    "\n",
    "import numpy as np\n",
    "import os\n",
    "import time"
   ]
  },
  {
   "cell_type": "code",
   "execution_count": 2,
   "id": "1fa01820",
   "metadata": {
    "ExecuteTime": {
     "end_time": "2022-05-18T00:43:09.330670Z",
     "start_time": "2022-05-18T00:43:09.316201Z"
    }
   },
   "outputs": [
    {
     "name": "stdout",
     "output_type": "stream",
     "text": [
      "len(text) = 705123\n",
      "Example: fly me to the moon let me play among the stars and\n"
     ]
    }
   ],
   "source": [
    "data_path = r'data'\n",
    "filename = 'Lyrics_FrankSinatra.txt'\n",
    "filepath = os.sep.join([data_path, filename])\n",
    "checkpoint_path = r'checkpoints'\n",
    "\n",
    "text = ''\n",
    "with open(filepath, encoding='utf-8') as f:\n",
    "    text = f.read()\n",
    "\n",
    "print(f\"len(text) = {len(text)}\")\n",
    "print(\"Example:\", text[:50])"
   ]
  },
  {
   "cell_type": "code",
   "execution_count": 3,
   "id": "c7645c91",
   "metadata": {
    "ExecuteTime": {
     "end_time": "2022-05-18T00:43:09.346627Z",
     "start_time": "2022-05-18T00:43:09.331667Z"
    }
   },
   "outputs": [
    {
     "name": "stdout",
     "output_type": "stream",
     "text": [
      "len(vocab) = 27\n"
     ]
    }
   ],
   "source": [
    "vocab = sorted(set(text))\n",
    "print(f\"len(vocab) = {len(vocab)}\")"
   ]
  },
  {
   "cell_type": "code",
   "execution_count": 4,
   "id": "1b6d808b",
   "metadata": {
    "ExecuteTime": {
     "end_time": "2022-05-18T00:43:09.393501Z",
     "start_time": "2022-05-18T00:43:09.347625Z"
    }
   },
   "outputs": [],
   "source": [
    "ids_from_chars = tf.keras.layers.StringLookup(vocabulary=list(vocab), mask_token=None)\n",
    "chars_from_ids = tf.keras.layers.StringLookup(vocabulary=ids_from_chars.get_vocabulary(),\n",
    "                                             invert=True, mask_token=None)\n",
    "\n",
    "def text_from_ids(ids):\n",
    "    return tf.strings.reduce_join(chars_from_ids(ids), axis=-1)"
   ]
  },
  {
   "cell_type": "code",
   "execution_count": 5,
   "id": "361cf942",
   "metadata": {
    "ExecuteTime": {
     "end_time": "2022-05-18T00:43:09.409459Z",
     "start_time": "2022-05-18T00:43:09.394499Z"
    }
   },
   "outputs": [],
   "source": [
    "sequence_len = 100\n",
    "vocab_size = len(ids_from_chars.get_vocabulary())\n",
    "embedding_dim = 256\n",
    "rnn_units = 1024"
   ]
  },
  {
   "cell_type": "code",
   "execution_count": 6,
   "id": "f18bfd36",
   "metadata": {
    "ExecuteTime": {
     "end_time": "2022-05-18T00:43:09.424419Z",
     "start_time": "2022-05-18T00:43:09.410456Z"
    }
   },
   "outputs": [],
   "source": [
    "class LyricsGeneratorModel(tf.keras.Model):\n",
    "    def __init__(self, vocab_size, embedding_dim, rnn_units):\n",
    "        super().__init__(self)\n",
    "        self.embedding = tf.keras.layers.Embedding(vocab_size, embedding_dim, input_length=sequence_len)\n",
    "        self.gru = tf.keras.layers.GRU(rnn_units, return_sequences=True, return_state=True)\n",
    "        self.dense = tf.keras.layers.Dense(vocab_size)\n",
    "\n",
    "    def call(self, inputs, states=None, return_state=False, training=False):\n",
    "        x = inputs\n",
    "        x = self.embedding(x, training=training)\n",
    "        if states is None:\n",
    "            states = self.gru.get_initial_state(x)\n",
    "        x, states = self.gru(x, initial_state=states, training=training)\n",
    "        x = self.dense(x, training=training)\n",
    "        \n",
    "        if return_state:\n",
    "            return x, states\n",
    "        else:\n",
    "            return x"
   ]
  },
  {
   "cell_type": "code",
   "execution_count": 7,
   "id": "78f56278",
   "metadata": {
    "ExecuteTime": {
     "end_time": "2022-05-18T00:43:10.335951Z",
     "start_time": "2022-05-18T00:43:09.425416Z"
    }
   },
   "outputs": [],
   "source": [
    "EPOCHS = 80\n",
    "\n",
    "# Load model\n",
    "model = LyricsGeneratorModel(vocab_size=vocab_size,\n",
    "                            embedding_dim=embedding_dim,\n",
    "                            rnn_units=rnn_units)\n",
    "model.build((None, 100))\n",
    "model.load_weights(f\"models\\\\model_lower_char_{EPOCHS}_epochs_weights.h5\")"
   ]
  },
  {
   "cell_type": "code",
   "execution_count": 8,
   "id": "b2281bc8",
   "metadata": {
    "ExecuteTime": {
     "end_time": "2022-05-18T00:43:10.351908Z",
     "start_time": "2022-05-18T00:43:10.336948Z"
    }
   },
   "outputs": [],
   "source": [
    "# Create a mask to prevent \"[UNK]\" from being generated.\n",
    "skip_ids = ids_from_chars(['[UNK]'])[:, None]\n",
    "sparse_mask = tf.SparseTensor(\n",
    "    # Put a -inf at each bad index.\n",
    "    values=[-float('inf')]*len(skip_ids),\n",
    "    indices=skip_ids,\n",
    "    # Match the shape to the vocabulary\n",
    "    dense_shape=[len(ids_from_chars.get_vocabulary())])\n",
    "prediction_mask = tf.sparse.to_dense(sparse_mask)\n",
    "\n",
    "def generate_one_step(inputs, states=None):\n",
    "    # Convert strings to token IDs.\n",
    "    input_chars = tf.strings.unicode_split(inputs, 'UTF-8')\n",
    "    input_ids = ids_from_chars(input_chars).to_tensor()\n",
    "\n",
    "    # Run the model.\n",
    "    # predicted_logits.shape is [batch, char, next_char_logits]\n",
    "    predicted_logits, states = model(inputs=input_ids, states=states,\n",
    "                                          return_state=True, training=False)\n",
    "    # Only use the last prediction.\n",
    "    predicted_logits = predicted_logits[:, -1, :]\n",
    "    predicted_logits = predicted_logits/1.0\n",
    "    # Apply the prediction mask: prevent \"[UNK]\" from being generated.\n",
    "    predicted_logits = predicted_logits + prediction_mask\n",
    "\n",
    "    # Sample the output logits to generate token IDs.\n",
    "    predicted_ids = tf.random.categorical(predicted_logits, num_samples=1)\n",
    "    predicted_ids = tf.squeeze(predicted_ids, axis=-1)\n",
    "\n",
    "    # Convert from token ids to characters\n",
    "    predicted_chars = chars_from_ids(predicted_ids)\n",
    "\n",
    "    # Return the characters and model state.\n",
    "    return predicted_chars, states"
   ]
  },
  {
   "cell_type": "code",
   "execution_count": 9,
   "id": "8b01666f",
   "metadata": {
    "ExecuteTime": {
     "end_time": "2022-05-18T00:43:16.966383Z",
     "start_time": "2022-05-18T00:43:10.352906Z"
    },
    "scrolled": false
   },
   "outputs": [
    {
     "name": "stdout",
     "output_type": "stream",
     "text": [
      "life begin so open up your heart and let this fool rush inhey with a little life this funny things leave our hearts in pain with her song tell me all i want to be when we walk with the lion soar with the eagle sing with the nightingale and live in love and peacethe lovely still dont wait a minute for downtown everythings was high on a ritur and each has easy take my love this was my love light was her laughter few were her tears gentle her i feel like it just began losing yusher why is it someone is the pretty mind every mind thats your face the night is young and see if i can dear when i say you i love you honey child i leans on you a little bita country dance was being her under symponstip and it isnt evening what are you whisper to me then my shadows will fly through a warm sy two happy and darling what plants em is soon forgotten but ol man river jest keeps rollin he keeps your countrise s do you make me feel so young you make me feel so young you make me feel so spring has sprung and  \n",
      "\n",
      "________________________________________________________________________________\n",
      "\n",
      "Run time: 6.607985019683838\n"
     ]
    }
   ],
   "source": [
    "start = time.time()\n",
    "states = None\n",
    "next_char = tf.constant(['life'])\n",
    "result = [next_char]\n",
    "\n",
    "for n in range(1000):\n",
    "  next_char, states = generate_one_step(next_char, states=states)\n",
    "  result.append(next_char)\n",
    "\n",
    "result = tf.strings.join(result)\n",
    "end = time.time()\n",
    "print(result[0].numpy().decode('utf-8'), '\\n\\n' + '_'*80)\n",
    "print('\\nRun time:', end - start)"
   ]
  },
  {
   "cell_type": "code",
   "execution_count": null,
   "id": "8d361add",
   "metadata": {},
   "outputs": [],
   "source": []
  }
 ],
 "metadata": {
  "kernelspec": {
   "display_name": "Python 3 (ipykernel)",
   "language": "python",
   "name": "python3"
  },
  "language_info": {
   "codemirror_mode": {
    "name": "ipython",
    "version": 3
   },
   "file_extension": ".py",
   "mimetype": "text/x-python",
   "name": "python",
   "nbconvert_exporter": "python",
   "pygments_lexer": "ipython3",
   "version": "3.9.7"
  },
  "toc": {
   "base_numbering": 1,
   "nav_menu": {},
   "number_sections": true,
   "sideBar": true,
   "skip_h1_title": false,
   "title_cell": "Table of Contents",
   "title_sidebar": "Contents",
   "toc_cell": false,
   "toc_position": {},
   "toc_section_display": true,
   "toc_window_display": false
  }
 },
 "nbformat": 4,
 "nbformat_minor": 5
}
